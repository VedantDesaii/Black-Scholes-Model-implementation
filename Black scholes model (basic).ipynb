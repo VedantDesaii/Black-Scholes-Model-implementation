{
 "cells": [
  {
   "cell_type": "code",
   "execution_count": 1,
   "metadata": {},
   "outputs": [
    {
     "name": "stdout",
     "output_type": "stream",
     "text": [
      "Option Price: 12.327916546186017\n",
      "Delta: 0.6792906209478785\n",
      "Gamma: 0.01687354873203826\n",
      "Vega: 25.310323098057392\n",
      "Theta: -10.373154206847309\n",
      "Rho: 27.800572774300917\n"
     ]
    }
   ],
   "source": [
    "from scipy.stats import norm\n",
    "import math\n",
    "\n",
    "def calculate_option_price(S, X, r, T, sigma, option_type):\n",
    "    d1 = (math.log(S / X) + (r + 0.5 * sigma**2) * T) / (sigma * math.sqrt(T))\n",
    "    d2 = d1 - sigma * math.sqrt(T)\n",
    "\n",
    "    if option_type == \"call\":\n",
    "        option_price = S * norm.cdf(d1) - X * math.exp(-r * T) * norm.cdf(d2)\n",
    "    elif option_type == \"put\":\n",
    "        option_price = X * math.exp(-r * T) * norm.cdf(-d2) - S * norm.cdf(-d1)\n",
    "    else:\n",
    "        raise ValueError(\"Invalid option type\")\n",
    "\n",
    "    return option_price\n",
    "\n",
    "def calculate_option_greeks(S, X, r, T, sigma, option_type):\n",
    "    d1 = (math.log(S / X) + (r + 0.5 * sigma**2) * T) / (sigma * math.sqrt(T))\n",
    "    d2 = d1 - sigma * math.sqrt(T)\n",
    "\n",
    "    delta = norm.cdf(d1) if option_type == \"call\" else -norm.cdf(-d1)\n",
    "    gamma = norm.pdf(d1) / (S * sigma * math.sqrt(T))\n",
    "    vega = S * norm.pdf(d1) * math.sqrt(T)\n",
    "    theta = -(S * norm.pdf(d1) * sigma) / (2 * math.sqrt(T)) - r * X * math.exp(-r * T) * norm.cdf(d2)\n",
    "    rho = X * T * math.exp(-r * T) * norm.cdf(d2) if option_type == \"call\" else -X * T * math.exp(-r * T) * norm.cdf(-d2)\n",
    "\n",
    "    return delta, gamma, vega, theta, rho\n",
    "\n",
    "# Example usage\n",
    "S = 100  # Current price of the underlying asset\n",
    "X = 95   # Strike price of the option\n",
    "r = 0.05 # Risk-free interest rate\n",
    "T = 0.5  # Time to expiration in years\n",
    "sigma = 0.3  # Implied volatility\n",
    "option_type = \"call\"\n",
    "\n",
    "option_price = calculate_option_price(S, X, r, T, sigma, option_type)\n",
    "delta, gamma, vega, theta, rho = calculate_option_greeks(S, X, r, T, sigma, option_type)\n",
    "\n",
    "print(\"Option Price:\", option_price)\n",
    "print(\"Delta:\", delta)\n",
    "print(\"Gamma:\", gamma)\n",
    "print(\"Vega:\", vega)\n",
    "print(\"Theta:\", theta)\n",
    "print(\"Rho:\", rho)\n"
   ]
  }
 ],
 "metadata": {
  "kernelspec": {
   "display_name": "Python 3",
   "language": "python",
   "name": "python3"
  },
  "language_info": {
   "codemirror_mode": {
    "name": "ipython",
    "version": 3
   },
   "file_extension": ".py",
   "mimetype": "text/x-python",
   "name": "python",
   "nbconvert_exporter": "python",
   "pygments_lexer": "ipython3",
   "version": "3.10.5"
  },
  "orig_nbformat": 4
 },
 "nbformat": 4,
 "nbformat_minor": 2
}
